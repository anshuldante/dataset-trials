{
 "cells": [
  {
   "cell_type": "code",
   "execution_count": 1,
   "metadata": {},
   "outputs": [],
   "source": [
    "%matplotlib inline\n",
    "import pandas as pd\n",
    "import matplotlib.pyplot as plt\n",
    "from mpl_toolkits import mplot3d\n",
    "import numpy as np\n",
    "from scipy import stats\n",
    "import seaborn as sns\n",
    "import statsmodels.api as sm\n",
    "from sklearn.model_selection import train_test_split\n",
    "from sklearn.tree import DecisionTreeClassifier\n",
    "from sklearn.model_selection import GridSearchCV\n",
    "from sklearn.decomposition import PCA\n",
    "import warnings\n",
    "warnings.filterwarnings(\"ignore\")"
   ]
  },
  {
   "cell_type": "code",
   "execution_count": 2,
   "metadata": {},
   "outputs": [],
   "source": [
    "heart = pd.read_csv('heart.csv')"
   ]
  },
  {
   "cell_type": "code",
   "execution_count": 3,
   "metadata": {},
   "outputs": [],
   "source": [
    "X = heart.drop('target', axis=1)\n",
    "y = heart['target']\n",
    "\n",
    "X_train, X_test, y_train, y_test = train_test_split(X, y, test_size = 0.2, random_state=2)"
   ]
  },
  {
   "cell_type": "markdown",
   "metadata": {},
   "source": [
    "## PCA"
   ]
  },
  {
   "cell_type": "code",
   "execution_count": 4,
   "metadata": {},
   "outputs": [
    {
     "name": "stdout",
     "output_type": "stream",
     "text": [
      "cumsum: [0.7475642  0.89793442 0.98253127 0.99874723 0.99913131 0.99941255\n",
      " 0.99964154 0.99974137 0.99981859 0.99987733 0.99992762 0.99996859\n",
      " 1.        ]\n"
     ]
    },
    {
     "data": {
      "text/plain": [
       "Text(0, 0.5, 'cumulative explained variance')"
      ]
     },
     "execution_count": 4,
     "metadata": {},
     "output_type": "execute_result"
    },
    {
     "data": {
      "image/png": "[encoded data removed]",
      "text/plain": [
       "<Figure size 432x288 with 1 Axes>"
      ]
     },
     "metadata": {
      "needs_background": "light"
     },
     "output_type": "display_data"
    }
   ],
   "source": [
    "pca = PCA()\n",
    "\n",
    "pca.fit(X,y)\n",
    "\n",
    "print(f'cumsum: {np.cumsum(pca.explained_variance_ratio_)}')\n",
    "\n",
    "pca = PCA().fit(X,y)\n",
    "plt.plot(np.cumsum(pca.explained_variance_ratio_))\n",
    "plt.xlabel('number of components')\n",
    "plt.ylabel('cumulative explained variance')"
   ]
  },
  {
   "cell_type": "markdown",
   "metadata": {},
   "source": [
    "## LinearRegression"
   ]
  },
  {
   "cell_type": "code",
   "execution_count": 15,
   "metadata": {},
   "outputs": [
    {
     "name": "stdout",
     "output_type": "stream",
     "text": [
      "R-Squared for Train set: 0.492\n",
      "R-Squared for test set: 0.592\n"
     ]
    }
   ],
   "source": [
    "from sklearn.linear_model import LinearRegression\n",
    "\n",
    "linreg = LinearRegression()\n",
    "linreg.fit(X_train,y_train)\n",
    "\n",
    "#R-Squared Score\n",
    "print(\"R-Squared for Train set: {:.3f}\".format(linreg.score(X_train, y_train)))\n",
    "print(\"R-Squared for test set: {:.3f}\" .format(linreg.score(X_test, y_test)))"
   ]
  },
  {
   "cell_type": "markdown",
   "metadata": {},
   "source": [
    "## LogisticRegression"
   ]
  },
  {
   "cell_type": "code",
   "execution_count": 16,
   "metadata": {},
   "outputs": [
    {
     "name": "stdout",
     "output_type": "stream",
     "text": [
      "LogisticRegression(C=0.1, class_weight=None, dual=False, fit_intercept=True,\n",
      "                   intercept_scaling=1, l1_ratio=None, max_iter=1000,\n",
      "                   multi_class='auto', n_jobs=None, penalty='l2',\n",
      "                   random_state=None, solver='lbfgs', tol=0.0001, verbose=0,\n",
      "                   warm_start=False)\n"
     ]
    }
   ],
   "source": [
    "from sklearn.model_selection import GridSearchCV\n",
    "from sklearn.linear_model import LogisticRegression\n",
    "\n",
    "params = {'max_iter' : [10,100,1000,10000],\n",
    "             'C' : [0.01,0.1,1,10,50,100]}\n",
    "\n",
    "clf = GridSearchCV(LogisticRegression(),params)\n",
    "\n",
    "clf.fit(X_train,y_train)\n",
    "\n",
    "print(f'{clf.best_estimator_}')"
   ]
  },
  {
   "cell_type": "code",
   "execution_count": 17,
   "metadata": {},
   "outputs": [
    {
     "name": "stdout",
     "output_type": "stream",
     "text": [
      "R-Squared for Train set: 0.831\n",
      "R-Squared for test set: 0.918\n"
     ]
    }
   ],
   "source": [
    "logreg = LogisticRegression(C=0.1, max_iter=1000)\n",
    "logreg.fit(X_train,y_train)\n",
    "\n",
    "#R-Squared Score\n",
    "print(\"R-Squared for Train set: {:.3f}\".format(logreg.score(X_train, y_train)))\n",
    "print(\"R-Squared for test set: {:.3f}\" .format(logreg.score(X_test, y_test)))"
   ]
  },
  {
   "cell_type": "markdown",
   "metadata": {},
   "source": [
    "## KNeighborsClassifier"
   ]
  },
  {
   "cell_type": "code",
   "execution_count": 18,
   "metadata": {},
   "outputs": [
    {
     "name": "stdout",
     "output_type": "stream",
     "text": [
      "KNeighborsClassifier(algorithm='auto', leaf_size=30, metric='minkowski',\n",
      "                     metric_params=None, n_jobs=None, n_neighbors=15, p=2,\n",
      "                     weights='uniform')\n"
     ]
    }
   ],
   "source": [
    "from sklearn.neighbors import KNeighborsClassifier\n",
    "\n",
    "params = {'n_neighbors' : range(1,50),\n",
    "             'weights' : ['uniform','distance']}\n",
    "\n",
    "clf2 = GridSearchCV(KNeighborsClassifier(),params)\n",
    "\n",
    "clf2.fit(X_train,y_train)\n",
    "\n",
    "print(f'{clf2.best_estimator_}')"
   ]
  },
  {
   "cell_type": "code",
   "execution_count": 22,
   "metadata": {},
   "outputs": [
    {
     "name": "stdout",
     "output_type": "stream",
     "text": [
      "R-Squared for Train set: 0.740\n",
      "R-Squared for test set: 0.705\n"
     ]
    }
   ],
   "source": [
    "knn = KNeighborsClassifier()\n",
    "\n",
    "knn.fit(X_train,y_train)\n",
    "\n",
    "#R-Squared Score\n",
    "print(\"R-Squared for Train set: {:.3f}\".format(knn.score(X_train, y_train)))\n",
    "print(\"R-Squared for test set: {:.3f}\" .format(knn.score(X_test, y_test)))"
   ]
  },
  {
   "cell_type": "markdown",
   "metadata": {},
   "source": [
    "## LinearSVC"
   ]
  },
  {
   "cell_type": "code",
   "execution_count": 23,
   "metadata": {},
   "outputs": [
    {
     "name": "stdout",
     "output_type": "stream",
     "text": [
      "LinearSVC(C=0.01, class_weight=None, dual=True, fit_intercept=True,\n",
      "          intercept_scaling=1, loss='squared_hinge', max_iter=10000,\n",
      "          multi_class='ovr', penalty='l2', random_state=None, tol=0.0001,\n",
      "          verbose=0)\n"
     ]
    }
   ],
   "source": [
    "from sklearn.svm import LinearSVC\n",
    "\n",
    "params = {'max_iter' : [10,100,1000,10000],\n",
    "             'C' : [0.01,0.1,1,10,50,100]}\n",
    "\n",
    "clf2 = GridSearchCV(LinearSVC(),params)\n",
    "\n",
    "clf2.fit(X_train,y_train)\n",
    "\n",
    "print(f'{clf2.best_estimator_}')"
   ]
  },
  {
   "cell_type": "code",
   "execution_count": 24,
   "metadata": {},
   "outputs": [
    {
     "name": "stdout",
     "output_type": "stream",
     "text": [
      "R-Squared for Train set: 0.826\n",
      "R-Squared for test set: 0.918\n"
     ]
    }
   ],
   "source": [
    "svc = LinearSVC(C=0.01,max_iter=10000)\n",
    "\n",
    "svc.fit(X_train,y_train)\n",
    "\n",
    "#R-Squared Score\n",
    "print(\"R-Squared for Train set: {:.3f}\".format(svc.score(X_train, y_train)))\n",
    "print(\"R-Squared for test set: {:.3f}\" .format(svc.score(X_test, y_test)))"
   ]
  },
  {
   "cell_type": "markdown",
   "metadata": {},
   "source": [
    "## DecisionTreeClassifier"
   ]
  },
  {
   "cell_type": "code",
   "execution_count": 25,
   "metadata": {},
   "outputs": [
    {
     "name": "stdout",
     "output_type": "stream",
     "text": [
      "DecisionTreeClassifier(ccp_alpha=0, class_weight=None, criterion='gini',\n",
      "                       max_depth=4, max_features=None, max_leaf_nodes=None,\n",
      "                       min_impurity_decrease=0.0, min_impurity_split=None,\n",
      "                       min_samples_leaf=0.05, min_samples_split=0.05,\n",
      "                       min_weight_fraction_leaf=0.0, presort='deprecated',\n",
      "                       random_state=None, splitter='best')\n"
     ]
    }
   ],
   "source": [
    "from sklearn.tree import DecisionTreeClassifier\n",
    "\n",
    "params = {'max_depth' : range(1,50),\n",
    "         'min_samples_split': [0.001,0.01,0.05],'min_samples_leaf':[0.001,0.01,0.05],\n",
    "         'ccp_alpha': [0,0.001,0.01,0.1,0.5]}\n",
    "\n",
    "clf = GridSearchCV(DecisionTreeClassifier(),params)\n",
    "\n",
    "clf.fit(X_train,y_train)\n",
    "\n",
    "print(f'{clf.best_estimator_}')"
   ]
  },
  {
   "cell_type": "code",
   "execution_count": 26,
   "metadata": {},
   "outputs": [
    {
     "name": "stdout",
     "output_type": "stream",
     "text": [
      "R-Squared for Train set: 0.847\n",
      "R-Squared for test set: 0.869\n"
     ]
    }
   ],
   "source": [
    "dtree = DecisionTreeClassifier(max_depth=4,min_samples_split=0.05,min_samples_leaf=0.05,ccp_alpha=0)\n",
    "\n",
    "dtree.fit(X_train,y_train)\n",
    "\n",
    "#R-Squared Score\n",
    "print(\"R-Squared for Train set: {:.3f}\".format(dtree.score(X_train, y_train)))\n",
    "print(\"R-Squared for test set: {:.3f}\" .format(dtree.score(X_test, y_test)))"
   ]
  },
  {
   "cell_type": "markdown",
   "metadata": {},
   "source": [
    "## RandomForestClassifier"
   ]
  },
  {
   "cell_type": "code",
   "execution_count": 27,
   "metadata": {},
   "outputs": [
    {
     "name": "stdout",
     "output_type": "stream",
     "text": [
      "RandomForestClassifier(bootstrap=True, ccp_alpha=0.0, class_weight=None,\n",
      "                       criterion='gini', max_depth=18, max_features='auto',\n",
      "                       max_leaf_nodes=None, max_samples=None,\n",
      "                       min_impurity_decrease=0.0, min_impurity_split=None,\n",
      "                       min_samples_leaf=1, min_samples_split=2,\n",
      "                       min_weight_fraction_leaf=0.0, n_estimators=200,\n",
      "                       n_jobs=None, oob_score=False, random_state=None,\n",
      "                       verbose=0, warm_start=False)\n"
     ]
    }
   ],
   "source": [
    "from sklearn.ensemble import RandomForestClassifier\n",
    "\n",
    "params = {'n_estimators' : [10,50,100,200,500,1000],\n",
    "             'max_depth' : range(1,20)}\n",
    "\n",
    "clf2 = GridSearchCV(RandomForestClassifier(),params)\n",
    "\n",
    "clf2.fit(X_train,y_train)\n",
    "\n",
    "print(f'{clf2.best_estimator_}')"
   ]
  },
  {
   "cell_type": "code",
   "execution_count": 28,
   "metadata": {},
   "outputs": [
    {
     "name": "stdout",
     "output_type": "stream",
     "text": [
      "R-Squared for Train set: 1.000\n",
      "R-Squared for test set: 0.902\n"
     ]
    }
   ],
   "source": [
    "randomforest = RandomForestClassifier(n_estimators=200,max_depth=18)\n",
    "\n",
    "randomforest.fit(X_train,y_train)\n",
    "\n",
    "#R-Squared Score\n",
    "print(\"R-Squared for Train set: {:.3f}\".format(randomforest.score(X_train, y_train)))\n",
    "print(\"R-Squared for test set: {:.3f}\" .format(randomforest.score(X_test, y_test)))"
   ]
  },
  {
   "cell_type": "code",
   "execution_count": 29,
   "metadata": {},
   "outputs": [
    {
     "name": "stdout",
     "output_type": "stream",
     "text": [
      "Linear Regression: R-Squared for Train set: 0.492\n",
      "Linear Regression: R-Squared for test set: 0.592\n",
      "Logistic Regression: R-Squared for Train set: 0.831\n",
      "Logistic Regression: R-Squared for test set: 0.918\n",
      "KNN Regression: R-Squared for Train set: 0.740\n",
      "KNN Regression: R-Squared for test set: 0.705\n",
      "SVC: R-Squared for Train set: 0.826\n",
      "SVC: R-Squared for test set: 0.918\n",
      "Decision Tree: R-Squared for Train set: 0.847\n",
      "Decision Tree: R-Squared for test set: 0.869\n",
      "Random Forest: R-Squared for Train set: 1.000\n",
      "Random Forest: R-Squared for test set: 0.902\n"
     ]
    }
   ],
   "source": [
    "print(\"Linear Regression: R-Squared for Train set: {:.3f}\".format(linreg.score(X_train, y_train)))\n",
    "print(\"Linear Regression: R-Squared for test set: {:.3f}\" .format(linreg.score(X_test, y_test)))\n",
    "\n",
    "print(\"Logistic Regression: R-Squared for Train set: {:.3f}\".format(logreg.score(X_train, y_train)))\n",
    "print(\"Logistic Regression: R-Squared for test set: {:.3f}\" .format(logreg.score(X_test, y_test)))\n",
    "\n",
    "print(\"KNN Regression: R-Squared for Train set: {:.3f}\".format(knn.score(X_train, y_train)))\n",
    "print(\"KNN Regression: R-Squared for test set: {:.3f}\" .format(knn.score(X_test, y_test)))\n",
    "\n",
    "print(\"SVC: R-Squared for Train set: {:.3f}\".format(svc.score(X_train, y_train)))\n",
    "print(\"SVC: R-Squared for test set: {:.3f}\" .format(svc.score(X_test, y_test)))\n",
    "\n",
    "print(\"Decision Tree: R-Squared for Train set: {:.3f}\".format(dtree.score(X_train, y_train)))\n",
    "print(\"Decision Tree: R-Squared for test set: {:.3f}\" .format(dtree.score(X_test, y_test)))\n",
    "\n",
    "print(\"Random Forest: R-Squared for Train set: {:.3f}\".format(randomforest.score(X_train, y_train)))\n",
    "print(\"Random Forest: R-Squared for test set: {:.3f}\" .format(randomforest.score(X_test, y_test)))"
   ]
  },
  {
   "cell_type": "markdown",
   "metadata": {},
   "source": [
    "## Simple Logistic Regression is the winner here!"
   ]
  }
 ],
 "metadata": {
  "kernelspec": {
   "display_name": "Python 3.7.6 64-bit ('anaconda3': virtualenv)",
   "language": "python",
   "name": "python37664bitanaconda3virtualenv14f0be09cba74924b59e6e390c97b227"
  },
  "language_info": {
   "codemirror_mode": {
    "name": "ipython",
    "version": 3
   },
   "file_extension": ".py",
   "mimetype": "text/x-python",
   "name": "python",
   "nbconvert_exporter": "python",
   "pygments_lexer": "ipython3",
   "version": "3.7.6"
  }
 },
 "nbformat": 4,
 "nbformat_minor": 4
}
